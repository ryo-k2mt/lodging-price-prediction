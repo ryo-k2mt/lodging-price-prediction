{
  "cells": [
    {
      "cell_type": "markdown",
      "metadata": {
        "id": "view-in-github",
        "colab_type": "text"
      },
      "source": [
        "<a href=\"https://colab.research.google.com/github/ryo-k2mt/lodging-price-prediction/blob/model_selection/lodging_price_prediction.ipynb\" target=\"_parent\"><img src=\"https://colab.research.google.com/assets/colab-badge.svg\" alt=\"Open In Colab\"/></a>"
      ]
    },
    {
      "cell_type": "markdown",
      "metadata": {
        "id": "3b1lq56-9qee"
      },
      "source": [
        "# 目標：民泊サービスの物件データを使って、宿泊価格を予測するモデルの構築\n",
        "# 背景：\n",
        "近年、個人物件を貸し出す民泊サービスが流行っています。民泊では物件オーナーが、部屋の広さや立地をもとに宿泊価格を決めていますが、妥当な料金設定を行うのは容易ではありません。そこで今回は、民泊サービスであるAirbnbの掲載物件データを使って、宿泊価格を予測するモデルの構築にチャレンジしよう！\n",
        "\n",
        "### データ概要\n",
        "- 課題種別：回帰\n",
        "- データ種別：多変量\n",
        "- 学習データサンプル数：55583\n",
        "- 説明変数の数：27\n",
        "- 欠損値：有り"
      ]
    },
    {
      "cell_type": "markdown",
      "metadata": {
        "id": "v0TN_SNW-RvM"
      },
      "source": [
        "# google drive へマウント"
      ]
    },
    {
      "cell_type": "code",
      "execution_count": 98,
      "metadata": {
        "colab": {
          "base_uri": "https://localhost:8080/"
        },
        "id": "7mb1S7j_lpLf",
        "outputId": "53c974da-bbcd-4713-daf2-4e3337a1fd48"
      },
      "outputs": [
        {
          "output_type": "stream",
          "name": "stdout",
          "text": [
            "Drive already mounted at /content/drive; to attempt to forcibly remount, call drive.mount(\"/content/drive\", force_remount=True).\n"
          ]
        }
      ],
      "source": [
        "from google.colab import drive\n",
        "drive.mount('/content/drive')"
      ]
    },
    {
      "cell_type": "markdown",
      "metadata": {
        "id": "uE0GHPStl2VG"
      },
      "source": [
        "# ライブラリのインポート"
      ]
    },
    {
      "cell_type": "code",
      "execution_count": 99,
      "metadata": {
        "id": "qNjnR3bZAvAs"
      },
      "outputs": [],
      "source": [
        "import numpy as np\n",
        "import pandas as pd\n",
        "import matplotlib.pyplot as plt\n",
        "import seaborn as sns\n",
        "import sklearn\n",
        "\n",
        "from sklearn.preprocessing import LabelEncoder, StandardScaler\n",
        "from sklearn.feature_extraction.text import TfidfVectorizer\n",
        "from sklearn.model_selection import train_test_split\n"
      ]
    },
    {
      "cell_type": "markdown",
      "metadata": {
        "id": "-WccaWpvmIAm"
      },
      "source": [
        "# データの読み込み"
      ]
    },
    {
      "cell_type": "code",
      "execution_count": 100,
      "metadata": {
        "id": "BsjoD2i-mK10"
      },
      "outputs": [],
      "source": [
        "train_data = pd.read_csv('/content/drive/MyDrive/competesion_data/lodging-price-prediction/train.csv')\n",
        "test_data = pd.read_csv('/content/drive/MyDrive/competesion_data/lodging-price-prediction/test.csv')\n",
        "train_copy = train_data.copy()\n",
        "test_copy = test_data.copy()\n"
      ]
    },
    {
      "cell_type": "code",
      "source": [
        "list(train_data.columns)"
      ],
      "metadata": {
        "colab": {
          "base_uri": "https://localhost:8080/"
        },
        "id": "wrtzAH1FUrcR",
        "outputId": "a1ac8282-8c99-471c-8604-31323caa6a55"
      },
      "execution_count": 101,
      "outputs": [
        {
          "output_type": "execute_result",
          "data": {
            "text/plain": [
              "['id',\n",
              " 'accommodates',\n",
              " 'amenities',\n",
              " 'bathrooms',\n",
              " 'bed_type',\n",
              " 'bedrooms',\n",
              " 'beds',\n",
              " 'cancellation_policy',\n",
              " 'city',\n",
              " 'cleaning_fee',\n",
              " 'description',\n",
              " 'first_review',\n",
              " 'host_has_profile_pic',\n",
              " 'host_identity_verified',\n",
              " 'host_response_rate',\n",
              " 'host_since',\n",
              " 'instant_bookable',\n",
              " 'last_review',\n",
              " 'latitude',\n",
              " 'longitude',\n",
              " 'name',\n",
              " 'neighbourhood',\n",
              " 'number_of_reviews',\n",
              " 'property_type',\n",
              " 'review_scores_rating',\n",
              " 'room_type',\n",
              " 'thumbnail_url',\n",
              " 'zipcode',\n",
              " 'y']"
            ]
          },
          "metadata": {},
          "execution_count": 101
        }
      ]
    },
    {
      "cell_type": "markdown",
      "metadata": {
        "id": "suuId-KvmL3N"
      },
      "source": [
        "# 前処理"
      ]
    },
    {
      "cell_type": "markdown",
      "metadata": {
        "id": "SJ04kgrL7nym"
      },
      "source": [
        "### データの確認"
      ]
    },
    {
      "cell_type": "code",
      "execution_count": 102,
      "metadata": {
        "colab": {
          "base_uri": "https://localhost:8080/",
          "height": 165
        },
        "id": "5X6FSTAY-jTW",
        "outputId": "0e4a2a8d-a9d1-460d-ec66-fd99d495b217"
      },
      "outputs": [
        {
          "output_type": "execute_result",
          "data": {
            "text/plain": [
              "   id  accommodates                                          amenities  \\\n",
              "0   0             6  {TV,\"Wireless Internet\",Kitchen,\"Free parking ...   \n",
              "\n",
              "   bathrooms  bed_type  bedrooms  beds cancellation_policy city cleaning_fee  \\\n",
              "0        2.0  Real Bed       1.0   4.0            flexible   LA            t   \n",
              "\n",
              "   ...   longitude           name neighbourhood number_of_reviews  \\\n",
              "0  ... -118.154761  The Penthouse           NaN                 1   \n",
              "\n",
              "  property_type review_scores_rating     room_type thumbnail_url  zipcode  \\\n",
              "0     Apartment                 60.0  Private room           NaN    90804   \n",
              "\n",
              "       y  \n",
              "0  138.0  \n",
              "\n",
              "[1 rows x 29 columns]"
            ],
            "text/html": [
              "\n",
              "  <div id=\"df-6b8f79fd-3692-4df6-b75a-3750261e1b2f\" class=\"colab-df-container\">\n",
              "    <div>\n",
              "<style scoped>\n",
              "    .dataframe tbody tr th:only-of-type {\n",
              "        vertical-align: middle;\n",
              "    }\n",
              "\n",
              "    .dataframe tbody tr th {\n",
              "        vertical-align: top;\n",
              "    }\n",
              "\n",
              "    .dataframe thead th {\n",
              "        text-align: right;\n",
              "    }\n",
              "</style>\n",
              "<table border=\"1\" class=\"dataframe\">\n",
              "  <thead>\n",
              "    <tr style=\"text-align: right;\">\n",
              "      <th></th>\n",
              "      <th>id</th>\n",
              "      <th>accommodates</th>\n",
              "      <th>amenities</th>\n",
              "      <th>bathrooms</th>\n",
              "      <th>bed_type</th>\n",
              "      <th>bedrooms</th>\n",
              "      <th>beds</th>\n",
              "      <th>cancellation_policy</th>\n",
              "      <th>city</th>\n",
              "      <th>cleaning_fee</th>\n",
              "      <th>...</th>\n",
              "      <th>longitude</th>\n",
              "      <th>name</th>\n",
              "      <th>neighbourhood</th>\n",
              "      <th>number_of_reviews</th>\n",
              "      <th>property_type</th>\n",
              "      <th>review_scores_rating</th>\n",
              "      <th>room_type</th>\n",
              "      <th>thumbnail_url</th>\n",
              "      <th>zipcode</th>\n",
              "      <th>y</th>\n",
              "    </tr>\n",
              "  </thead>\n",
              "  <tbody>\n",
              "    <tr>\n",
              "      <th>0</th>\n",
              "      <td>0</td>\n",
              "      <td>6</td>\n",
              "      <td>{TV,\"Wireless Internet\",Kitchen,\"Free parking ...</td>\n",
              "      <td>2.0</td>\n",
              "      <td>Real Bed</td>\n",
              "      <td>1.0</td>\n",
              "      <td>4.0</td>\n",
              "      <td>flexible</td>\n",
              "      <td>LA</td>\n",
              "      <td>t</td>\n",
              "      <td>...</td>\n",
              "      <td>-118.154761</td>\n",
              "      <td>The Penthouse</td>\n",
              "      <td>NaN</td>\n",
              "      <td>1</td>\n",
              "      <td>Apartment</td>\n",
              "      <td>60.0</td>\n",
              "      <td>Private room</td>\n",
              "      <td>NaN</td>\n",
              "      <td>90804</td>\n",
              "      <td>138.0</td>\n",
              "    </tr>\n",
              "  </tbody>\n",
              "</table>\n",
              "<p>1 rows × 29 columns</p>\n",
              "</div>\n",
              "    <div class=\"colab-df-buttons\">\n",
              "\n",
              "  <div class=\"colab-df-container\">\n",
              "    <button class=\"colab-df-convert\" onclick=\"convertToInteractive('df-6b8f79fd-3692-4df6-b75a-3750261e1b2f')\"\n",
              "            title=\"Convert this dataframe to an interactive table.\"\n",
              "            style=\"display:none;\">\n",
              "\n",
              "  <svg xmlns=\"http://www.w3.org/2000/svg\" height=\"24px\" viewBox=\"0 -960 960 960\">\n",
              "    <path d=\"M120-120v-720h720v720H120Zm60-500h600v-160H180v160Zm220 220h160v-160H400v160Zm0 220h160v-160H400v160ZM180-400h160v-160H180v160Zm440 0h160v-160H620v160ZM180-180h160v-160H180v160Zm440 0h160v-160H620v160Z\"/>\n",
              "  </svg>\n",
              "    </button>\n",
              "\n",
              "  <style>\n",
              "    .colab-df-container {\n",
              "      display:flex;\n",
              "      gap: 12px;\n",
              "    }\n",
              "\n",
              "    .colab-df-convert {\n",
              "      background-color: #E8F0FE;\n",
              "      border: none;\n",
              "      border-radius: 50%;\n",
              "      cursor: pointer;\n",
              "      display: none;\n",
              "      fill: #1967D2;\n",
              "      height: 32px;\n",
              "      padding: 0 0 0 0;\n",
              "      width: 32px;\n",
              "    }\n",
              "\n",
              "    .colab-df-convert:hover {\n",
              "      background-color: #E2EBFA;\n",
              "      box-shadow: 0px 1px 2px rgba(60, 64, 67, 0.3), 0px 1px 3px 1px rgba(60, 64, 67, 0.15);\n",
              "      fill: #174EA6;\n",
              "    }\n",
              "\n",
              "    .colab-df-buttons div {\n",
              "      margin-bottom: 4px;\n",
              "    }\n",
              "\n",
              "    [theme=dark] .colab-df-convert {\n",
              "      background-color: #3B4455;\n",
              "      fill: #D2E3FC;\n",
              "    }\n",
              "\n",
              "    [theme=dark] .colab-df-convert:hover {\n",
              "      background-color: #434B5C;\n",
              "      box-shadow: 0px 1px 3px 1px rgba(0, 0, 0, 0.15);\n",
              "      filter: drop-shadow(0px 1px 2px rgba(0, 0, 0, 0.3));\n",
              "      fill: #FFFFFF;\n",
              "    }\n",
              "  </style>\n",
              "\n",
              "    <script>\n",
              "      const buttonEl =\n",
              "        document.querySelector('#df-6b8f79fd-3692-4df6-b75a-3750261e1b2f button.colab-df-convert');\n",
              "      buttonEl.style.display =\n",
              "        google.colab.kernel.accessAllowed ? 'block' : 'none';\n",
              "\n",
              "      async function convertToInteractive(key) {\n",
              "        const element = document.querySelector('#df-6b8f79fd-3692-4df6-b75a-3750261e1b2f');\n",
              "        const dataTable =\n",
              "          await google.colab.kernel.invokeFunction('convertToInteractive',\n",
              "                                                    [key], {});\n",
              "        if (!dataTable) return;\n",
              "\n",
              "        const docLinkHtml = 'Like what you see? Visit the ' +\n",
              "          '<a target=\"_blank\" href=https://colab.research.google.com/notebooks/data_table.ipynb>data table notebook</a>'\n",
              "          + ' to learn more about interactive tables.';\n",
              "        element.innerHTML = '';\n",
              "        dataTable['output_type'] = 'display_data';\n",
              "        await google.colab.output.renderOutput(dataTable, element);\n",
              "        const docLink = document.createElement('div');\n",
              "        docLink.innerHTML = docLinkHtml;\n",
              "        element.appendChild(docLink);\n",
              "      }\n",
              "    </script>\n",
              "  </div>\n",
              "\n",
              "\n",
              "    </div>\n",
              "  </div>\n"
            ],
            "application/vnd.google.colaboratory.intrinsic+json": {
              "type": "dataframe",
              "variable_name": "train_data"
            }
          },
          "metadata": {},
          "execution_count": 102
        }
      ],
      "source": [
        "train_data.head(1)"
      ]
    },
    {
      "cell_type": "code",
      "execution_count": 103,
      "metadata": {
        "colab": {
          "base_uri": "https://localhost:8080/",
          "height": 165
        },
        "id": "AisBJt8-DNMZ",
        "outputId": "011b8c0e-a8ab-4244-c227-6113fb492717"
      },
      "outputs": [
        {
          "output_type": "execute_result",
          "data": {
            "text/plain": [
              "   id  accommodates                                          amenities  \\\n",
              "0   0             6  {TV,\"Wireless Internet\",Kitchen,\"Free parking ...   \n",
              "\n",
              "   bathrooms  bed_type  bedrooms  beds cancellation_policy city cleaning_fee  \\\n",
              "0        2.0  Real Bed       1.0   4.0            flexible   LA            t   \n",
              "\n",
              "   ...   longitude           name neighbourhood number_of_reviews  \\\n",
              "0  ... -118.154761  The Penthouse           NaN                 1   \n",
              "\n",
              "  property_type review_scores_rating     room_type thumbnail_url  zipcode  \\\n",
              "0     Apartment                 60.0  Private room           NaN    90804   \n",
              "\n",
              "       y  \n",
              "0  138.0  \n",
              "\n",
              "[1 rows x 29 columns]"
            ],
            "text/html": [
              "\n",
              "  <div id=\"df-a16f8803-59bb-490e-8a3f-62a35af1b16a\" class=\"colab-df-container\">\n",
              "    <div>\n",
              "<style scoped>\n",
              "    .dataframe tbody tr th:only-of-type {\n",
              "        vertical-align: middle;\n",
              "    }\n",
              "\n",
              "    .dataframe tbody tr th {\n",
              "        vertical-align: top;\n",
              "    }\n",
              "\n",
              "    .dataframe thead th {\n",
              "        text-align: right;\n",
              "    }\n",
              "</style>\n",
              "<table border=\"1\" class=\"dataframe\">\n",
              "  <thead>\n",
              "    <tr style=\"text-align: right;\">\n",
              "      <th></th>\n",
              "      <th>id</th>\n",
              "      <th>accommodates</th>\n",
              "      <th>amenities</th>\n",
              "      <th>bathrooms</th>\n",
              "      <th>bed_type</th>\n",
              "      <th>bedrooms</th>\n",
              "      <th>beds</th>\n",
              "      <th>cancellation_policy</th>\n",
              "      <th>city</th>\n",
              "      <th>cleaning_fee</th>\n",
              "      <th>...</th>\n",
              "      <th>longitude</th>\n",
              "      <th>name</th>\n",
              "      <th>neighbourhood</th>\n",
              "      <th>number_of_reviews</th>\n",
              "      <th>property_type</th>\n",
              "      <th>review_scores_rating</th>\n",
              "      <th>room_type</th>\n",
              "      <th>thumbnail_url</th>\n",
              "      <th>zipcode</th>\n",
              "      <th>y</th>\n",
              "    </tr>\n",
              "  </thead>\n",
              "  <tbody>\n",
              "    <tr>\n",
              "      <th>0</th>\n",
              "      <td>0</td>\n",
              "      <td>6</td>\n",
              "      <td>{TV,\"Wireless Internet\",Kitchen,\"Free parking ...</td>\n",
              "      <td>2.0</td>\n",
              "      <td>Real Bed</td>\n",
              "      <td>1.0</td>\n",
              "      <td>4.0</td>\n",
              "      <td>flexible</td>\n",
              "      <td>LA</td>\n",
              "      <td>t</td>\n",
              "      <td>...</td>\n",
              "      <td>-118.154761</td>\n",
              "      <td>The Penthouse</td>\n",
              "      <td>NaN</td>\n",
              "      <td>1</td>\n",
              "      <td>Apartment</td>\n",
              "      <td>60.0</td>\n",
              "      <td>Private room</td>\n",
              "      <td>NaN</td>\n",
              "      <td>90804</td>\n",
              "      <td>138.0</td>\n",
              "    </tr>\n",
              "  </tbody>\n",
              "</table>\n",
              "<p>1 rows × 29 columns</p>\n",
              "</div>\n",
              "    <div class=\"colab-df-buttons\">\n",
              "\n",
              "  <div class=\"colab-df-container\">\n",
              "    <button class=\"colab-df-convert\" onclick=\"convertToInteractive('df-a16f8803-59bb-490e-8a3f-62a35af1b16a')\"\n",
              "            title=\"Convert this dataframe to an interactive table.\"\n",
              "            style=\"display:none;\">\n",
              "\n",
              "  <svg xmlns=\"http://www.w3.org/2000/svg\" height=\"24px\" viewBox=\"0 -960 960 960\">\n",
              "    <path d=\"M120-120v-720h720v720H120Zm60-500h600v-160H180v160Zm220 220h160v-160H400v160Zm0 220h160v-160H400v160ZM180-400h160v-160H180v160Zm440 0h160v-160H620v160ZM180-180h160v-160H180v160Zm440 0h160v-160H620v160Z\"/>\n",
              "  </svg>\n",
              "    </button>\n",
              "\n",
              "  <style>\n",
              "    .colab-df-container {\n",
              "      display:flex;\n",
              "      gap: 12px;\n",
              "    }\n",
              "\n",
              "    .colab-df-convert {\n",
              "      background-color: #E8F0FE;\n",
              "      border: none;\n",
              "      border-radius: 50%;\n",
              "      cursor: pointer;\n",
              "      display: none;\n",
              "      fill: #1967D2;\n",
              "      height: 32px;\n",
              "      padding: 0 0 0 0;\n",
              "      width: 32px;\n",
              "    }\n",
              "\n",
              "    .colab-df-convert:hover {\n",
              "      background-color: #E2EBFA;\n",
              "      box-shadow: 0px 1px 2px rgba(60, 64, 67, 0.3), 0px 1px 3px 1px rgba(60, 64, 67, 0.15);\n",
              "      fill: #174EA6;\n",
              "    }\n",
              "\n",
              "    .colab-df-buttons div {\n",
              "      margin-bottom: 4px;\n",
              "    }\n",
              "\n",
              "    [theme=dark] .colab-df-convert {\n",
              "      background-color: #3B4455;\n",
              "      fill: #D2E3FC;\n",
              "    }\n",
              "\n",
              "    [theme=dark] .colab-df-convert:hover {\n",
              "      background-color: #434B5C;\n",
              "      box-shadow: 0px 1px 3px 1px rgba(0, 0, 0, 0.15);\n",
              "      filter: drop-shadow(0px 1px 2px rgba(0, 0, 0, 0.3));\n",
              "      fill: #FFFFFF;\n",
              "    }\n",
              "  </style>\n",
              "\n",
              "    <script>\n",
              "      const buttonEl =\n",
              "        document.querySelector('#df-a16f8803-59bb-490e-8a3f-62a35af1b16a button.colab-df-convert');\n",
              "      buttonEl.style.display =\n",
              "        google.colab.kernel.accessAllowed ? 'block' : 'none';\n",
              "\n",
              "      async function convertToInteractive(key) {\n",
              "        const element = document.querySelector('#df-a16f8803-59bb-490e-8a3f-62a35af1b16a');\n",
              "        const dataTable =\n",
              "          await google.colab.kernel.invokeFunction('convertToInteractive',\n",
              "                                                    [key], {});\n",
              "        if (!dataTable) return;\n",
              "\n",
              "        const docLinkHtml = 'Like what you see? Visit the ' +\n",
              "          '<a target=\"_blank\" href=https://colab.research.google.com/notebooks/data_table.ipynb>data table notebook</a>'\n",
              "          + ' to learn more about interactive tables.';\n",
              "        element.innerHTML = '';\n",
              "        dataTable['output_type'] = 'display_data';\n",
              "        await google.colab.output.renderOutput(dataTable, element);\n",
              "        const docLink = document.createElement('div');\n",
              "        docLink.innerHTML = docLinkHtml;\n",
              "        element.appendChild(docLink);\n",
              "      }\n",
              "    </script>\n",
              "  </div>\n",
              "\n",
              "\n",
              "    </div>\n",
              "  </div>\n"
            ],
            "application/vnd.google.colaboratory.intrinsic+json": {
              "type": "dataframe",
              "variable_name": "train_data"
            }
          },
          "metadata": {},
          "execution_count": 103
        }
      ],
      "source": [
        "train_data.head(1)"
      ]
    },
    {
      "cell_type": "code",
      "execution_count": 104,
      "metadata": {
        "colab": {
          "base_uri": "https://localhost:8080/"
        },
        "id": "L4tVsMSP72ld",
        "outputId": "4bc7e745-d263-4b3c-8325-a33106dc00f6"
      },
      "outputs": [
        {
          "output_type": "execute_result",
          "data": {
            "text/plain": [
              "55583"
            ]
          },
          "metadata": {},
          "execution_count": 104
        }
      ],
      "source": [
        "len(train_data)"
      ]
    },
    {
      "cell_type": "code",
      "execution_count": 105,
      "metadata": {
        "colab": {
          "base_uri": "https://localhost:8080/"
        },
        "id": "NQDK0HPU75xW",
        "outputId": "d529ea66-52cf-4871-bd17-c6139a96afc2"
      },
      "outputs": [
        {
          "output_type": "stream",
          "name": "stdout",
          "text": [
            "<class 'pandas.core.frame.DataFrame'>\n",
            "RangeIndex: 55583 entries, 0 to 55582\n",
            "Data columns (total 29 columns):\n",
            " #   Column                  Non-Null Count  Dtype  \n",
            "---  ------                  --------------  -----  \n",
            " 0   id                      55583 non-null  int64  \n",
            " 1   accommodates            55583 non-null  int64  \n",
            " 2   amenities               55583 non-null  object \n",
            " 3   bathrooms               55436 non-null  float64\n",
            " 4   bed_type                55583 non-null  object \n",
            " 5   bedrooms                55512 non-null  float64\n",
            " 6   beds                    55487 non-null  float64\n",
            " 7   cancellation_policy     55583 non-null  object \n",
            " 8   city                    55583 non-null  object \n",
            " 9   cleaning_fee            55583 non-null  object \n",
            " 10  description             55583 non-null  object \n",
            " 11  first_review            43675 non-null  object \n",
            " 12  host_has_profile_pic    55435 non-null  object \n",
            " 13  host_identity_verified  55435 non-null  object \n",
            " 14  host_response_rate      41879 non-null  object \n",
            " 15  host_since              55435 non-null  object \n",
            " 16  instant_bookable        55583 non-null  object \n",
            " 17  last_review             43703 non-null  object \n",
            " 18  latitude                55583 non-null  float64\n",
            " 19  longitude               55583 non-null  float64\n",
            " 20  name                    55583 non-null  object \n",
            " 21  neighbourhood           50423 non-null  object \n",
            " 22  number_of_reviews       55583 non-null  int64  \n",
            " 23  property_type           55583 non-null  object \n",
            " 24  review_scores_rating    43027 non-null  float64\n",
            " 25  room_type               55583 non-null  object \n",
            " 26  thumbnail_url           49438 non-null  object \n",
            " 27  zipcode                 54867 non-null  object \n",
            " 28  y                       55583 non-null  float64\n",
            "dtypes: float64(7), int64(3), object(19)\n",
            "memory usage: 12.3+ MB\n"
          ]
        }
      ],
      "source": [
        "train_data.info()"
      ]
    },
    {
      "cell_type": "markdown",
      "metadata": {
        "id": "zY9vHsvloksQ"
      },
      "source": [
        "固有名詞カラムや学習に影響を起こさないであろうカラムの削除"
      ]
    },
    {
      "cell_type": "code",
      "execution_count": 106,
      "metadata": {
        "id": "dp3e1IqfoohH"
      },
      "outputs": [],
      "source": [
        "delete_columns = ['id', 'name', 'thumbnail_url', 'zipcode']\n",
        "for delete_column in delete_columns:\n",
        "  train_data = train_data.drop(delete_column, axis=1)\n",
        "  test_data = test_data.drop(delete_column, axis=1)"
      ]
    },
    {
      "cell_type": "markdown",
      "metadata": {
        "id": "Eg1-MpiP7ivc"
      },
      "source": [
        "### 欠損値処理"
      ]
    },
    {
      "cell_type": "markdown",
      "metadata": {
        "id": "GkcnUZ3nxIYi"
      },
      "source": [
        "欠損値の確認"
      ]
    },
    {
      "cell_type": "code",
      "execution_count": 107,
      "metadata": {
        "colab": {
          "base_uri": "https://localhost:8080/"
        },
        "id": "DryzQB_17sYG",
        "outputId": "1e97ebde-172d-4633-c788-a245c13475ce"
      },
      "outputs": [
        {
          "output_type": "execute_result",
          "data": {
            "text/plain": [
              "accommodates                  0\n",
              "amenities                     0\n",
              "bathrooms                   147\n",
              "bed_type                      0\n",
              "bedrooms                     71\n",
              "beds                         96\n",
              "cancellation_policy           0\n",
              "city                          0\n",
              "cleaning_fee                  0\n",
              "description                   0\n",
              "first_review              11908\n",
              "host_has_profile_pic        148\n",
              "host_identity_verified      148\n",
              "host_response_rate        13704\n",
              "host_since                  148\n",
              "instant_bookable              0\n",
              "last_review               11880\n",
              "latitude                      0\n",
              "longitude                     0\n",
              "neighbourhood              5160\n",
              "number_of_reviews             0\n",
              "property_type                 0\n",
              "review_scores_rating      12556\n",
              "room_type                     0\n",
              "y                             0\n",
              "dtype: int64"
            ]
          },
          "metadata": {},
          "execution_count": 107
        }
      ],
      "source": [
        "null_counts = train_data.isnull().sum()\n",
        "null_counts"
      ]
    },
    {
      "cell_type": "code",
      "source": [
        "print(type(null_counts))"
      ],
      "metadata": {
        "colab": {
          "base_uri": "https://localhost:8080/"
        },
        "id": "NW4odj6UWgnH",
        "outputId": "022202d9-2374-4d0d-caa5-a104617a6726"
      },
      "execution_count": 108,
      "outputs": [
        {
          "output_type": "stream",
          "name": "stdout",
          "text": [
            "<class 'pandas.core.series.Series'>\n"
          ]
        }
      ]
    },
    {
      "cell_type": "code",
      "execution_count": 109,
      "metadata": {
        "id": "kxG8kWIJxLd9",
        "colab": {
          "base_uri": "https://localhost:8080/"
        },
        "outputId": "ed4d532f-0fef-4816-8eeb-a4c73e48a05d"
      },
      "outputs": [
        {
          "output_type": "stream",
          "name": "stdout",
          "text": [
            "bathrooms float64 1.0\n",
            "bedrooms float64 1.0\n",
            "beds float64 1.0\n",
            "first_review object 2017-01-01\n",
            "host_has_profile_pic object t\n",
            "host_identity_verified object t\n",
            "host_response_rate object 100%\n",
            "host_since object 2015-03-30\n",
            "last_review object 2017-04-30\n",
            "neighbourhood object Williamsburg\n",
            "review_scores_rating float64 100.0\n"
          ]
        },
        {
          "output_type": "stream",
          "name": "stderr",
          "text": [
            "<ipython-input-109-b6e8e4bda2ad>:2: FutureWarning: iteritems is deprecated and will be removed in a future version. Use .items instead.\n",
            "  for key, value in train_data.isnull().sum().iteritems():\n"
          ]
        }
      ],
      "source": [
        "missing_value_columns = []\n",
        "for key, value in train_data.isnull().sum().iteritems():\n",
        "  if value > 0:\n",
        "    missing_value_columns.append(key)\n",
        "for column in missing_value_columns:\n",
        "  target_feature = train_data[column]\n",
        "  item_type = target_feature.dtype\n",
        "  mode = target_feature.mode()[0]\n",
        "  print(column, item_type, mode)\n",
        "  if item_type == 'object':\n",
        "    train_data[column] = train_data[column].fillna(mode)\n",
        "    # target_feature.fillna('不明')\n",
        "  else:\n",
        "    mean = target_feature.mean()\n",
        "    median = target_feature.median()\n",
        "    train_data[column] = train_data[column].fillna(mean)\n",
        "    # target_feature = target_feature.fillna(median)"
      ]
    },
    {
      "cell_type": "code",
      "execution_count": 110,
      "metadata": {
        "id": "C3WsWEeO6_zD"
      },
      "outputs": [],
      "source": [
        "# # 最頻値で欠損値を埋める\n",
        "# for column in missing_value_columns:\n",
        "#   if column == 'review_scores_rating':\n",
        "#     continue\n",
        "#   mode = train_data[column].mode()[0]\n",
        "#   train_data[column] = train_data[column].fillna(mode)\n",
        "#   test_data[column] = test_data[column].fillna(mode)\n",
        "\n",
        "# # 平均値で欠損値を埋める\n",
        "# mode = train_data['review_scores_rating'].mean()\n",
        "# train_data['review_scores_rating'] = train_data['review_scores_rating'].fillna(mode)\n",
        "# test_data['review_scores_rating'] = test_data['review_scores_rating'].fillna(mode)"
      ]
    },
    {
      "cell_type": "code",
      "execution_count": 111,
      "metadata": {
        "id": "YvKoJcaq8Mzw",
        "colab": {
          "base_uri": "https://localhost:8080/",
          "height": 833
        },
        "outputId": "abd0a4ff-ee5e-4440-82da-bf5d8ff1bdf3"
      },
      "outputs": [
        {
          "output_type": "execute_result",
          "data": {
            "text/plain": [
              "                        0\n",
              "accommodates            0\n",
              "amenities               0\n",
              "bathrooms               0\n",
              "bed_type                0\n",
              "bedrooms                0\n",
              "beds                    0\n",
              "cancellation_policy     0\n",
              "city                    0\n",
              "cleaning_fee            0\n",
              "description             0\n",
              "first_review            0\n",
              "host_has_profile_pic    0\n",
              "host_identity_verified  0\n",
              "host_response_rate      0\n",
              "host_since              0\n",
              "instant_bookable        0\n",
              "last_review             0\n",
              "latitude                0\n",
              "longitude               0\n",
              "neighbourhood           0\n",
              "number_of_reviews       0\n",
              "property_type           0\n",
              "review_scores_rating    0\n",
              "room_type               0\n",
              "y                       0"
            ],
            "text/html": [
              "\n",
              "  <div id=\"df-42efbe73-4186-4744-a8ea-340d329bb19b\" class=\"colab-df-container\">\n",
              "    <div>\n",
              "<style scoped>\n",
              "    .dataframe tbody tr th:only-of-type {\n",
              "        vertical-align: middle;\n",
              "    }\n",
              "\n",
              "    .dataframe tbody tr th {\n",
              "        vertical-align: top;\n",
              "    }\n",
              "\n",
              "    .dataframe thead th {\n",
              "        text-align: right;\n",
              "    }\n",
              "</style>\n",
              "<table border=\"1\" class=\"dataframe\">\n",
              "  <thead>\n",
              "    <tr style=\"text-align: right;\">\n",
              "      <th></th>\n",
              "      <th>0</th>\n",
              "    </tr>\n",
              "  </thead>\n",
              "  <tbody>\n",
              "    <tr>\n",
              "      <th>accommodates</th>\n",
              "      <td>0</td>\n",
              "    </tr>\n",
              "    <tr>\n",
              "      <th>amenities</th>\n",
              "      <td>0</td>\n",
              "    </tr>\n",
              "    <tr>\n",
              "      <th>bathrooms</th>\n",
              "      <td>0</td>\n",
              "    </tr>\n",
              "    <tr>\n",
              "      <th>bed_type</th>\n",
              "      <td>0</td>\n",
              "    </tr>\n",
              "    <tr>\n",
              "      <th>bedrooms</th>\n",
              "      <td>0</td>\n",
              "    </tr>\n",
              "    <tr>\n",
              "      <th>beds</th>\n",
              "      <td>0</td>\n",
              "    </tr>\n",
              "    <tr>\n",
              "      <th>cancellation_policy</th>\n",
              "      <td>0</td>\n",
              "    </tr>\n",
              "    <tr>\n",
              "      <th>city</th>\n",
              "      <td>0</td>\n",
              "    </tr>\n",
              "    <tr>\n",
              "      <th>cleaning_fee</th>\n",
              "      <td>0</td>\n",
              "    </tr>\n",
              "    <tr>\n",
              "      <th>description</th>\n",
              "      <td>0</td>\n",
              "    </tr>\n",
              "    <tr>\n",
              "      <th>first_review</th>\n",
              "      <td>0</td>\n",
              "    </tr>\n",
              "    <tr>\n",
              "      <th>host_has_profile_pic</th>\n",
              "      <td>0</td>\n",
              "    </tr>\n",
              "    <tr>\n",
              "      <th>host_identity_verified</th>\n",
              "      <td>0</td>\n",
              "    </tr>\n",
              "    <tr>\n",
              "      <th>host_response_rate</th>\n",
              "      <td>0</td>\n",
              "    </tr>\n",
              "    <tr>\n",
              "      <th>host_since</th>\n",
              "      <td>0</td>\n",
              "    </tr>\n",
              "    <tr>\n",
              "      <th>instant_bookable</th>\n",
              "      <td>0</td>\n",
              "    </tr>\n",
              "    <tr>\n",
              "      <th>last_review</th>\n",
              "      <td>0</td>\n",
              "    </tr>\n",
              "    <tr>\n",
              "      <th>latitude</th>\n",
              "      <td>0</td>\n",
              "    </tr>\n",
              "    <tr>\n",
              "      <th>longitude</th>\n",
              "      <td>0</td>\n",
              "    </tr>\n",
              "    <tr>\n",
              "      <th>neighbourhood</th>\n",
              "      <td>0</td>\n",
              "    </tr>\n",
              "    <tr>\n",
              "      <th>number_of_reviews</th>\n",
              "      <td>0</td>\n",
              "    </tr>\n",
              "    <tr>\n",
              "      <th>property_type</th>\n",
              "      <td>0</td>\n",
              "    </tr>\n",
              "    <tr>\n",
              "      <th>review_scores_rating</th>\n",
              "      <td>0</td>\n",
              "    </tr>\n",
              "    <tr>\n",
              "      <th>room_type</th>\n",
              "      <td>0</td>\n",
              "    </tr>\n",
              "    <tr>\n",
              "      <th>y</th>\n",
              "      <td>0</td>\n",
              "    </tr>\n",
              "  </tbody>\n",
              "</table>\n",
              "</div>\n",
              "    <div class=\"colab-df-buttons\">\n",
              "\n",
              "  <div class=\"colab-df-container\">\n",
              "    <button class=\"colab-df-convert\" onclick=\"convertToInteractive('df-42efbe73-4186-4744-a8ea-340d329bb19b')\"\n",
              "            title=\"Convert this dataframe to an interactive table.\"\n",
              "            style=\"display:none;\">\n",
              "\n",
              "  <svg xmlns=\"http://www.w3.org/2000/svg\" height=\"24px\" viewBox=\"0 -960 960 960\">\n",
              "    <path d=\"M120-120v-720h720v720H120Zm60-500h600v-160H180v160Zm220 220h160v-160H400v160Zm0 220h160v-160H400v160ZM180-400h160v-160H180v160Zm440 0h160v-160H620v160ZM180-180h160v-160H180v160Zm440 0h160v-160H620v160Z\"/>\n",
              "  </svg>\n",
              "    </button>\n",
              "\n",
              "  <style>\n",
              "    .colab-df-container {\n",
              "      display:flex;\n",
              "      gap: 12px;\n",
              "    }\n",
              "\n",
              "    .colab-df-convert {\n",
              "      background-color: #E8F0FE;\n",
              "      border: none;\n",
              "      border-radius: 50%;\n",
              "      cursor: pointer;\n",
              "      display: none;\n",
              "      fill: #1967D2;\n",
              "      height: 32px;\n",
              "      padding: 0 0 0 0;\n",
              "      width: 32px;\n",
              "    }\n",
              "\n",
              "    .colab-df-convert:hover {\n",
              "      background-color: #E2EBFA;\n",
              "      box-shadow: 0px 1px 2px rgba(60, 64, 67, 0.3), 0px 1px 3px 1px rgba(60, 64, 67, 0.15);\n",
              "      fill: #174EA6;\n",
              "    }\n",
              "\n",
              "    .colab-df-buttons div {\n",
              "      margin-bottom: 4px;\n",
              "    }\n",
              "\n",
              "    [theme=dark] .colab-df-convert {\n",
              "      background-color: #3B4455;\n",
              "      fill: #D2E3FC;\n",
              "    }\n",
              "\n",
              "    [theme=dark] .colab-df-convert:hover {\n",
              "      background-color: #434B5C;\n",
              "      box-shadow: 0px 1px 3px 1px rgba(0, 0, 0, 0.15);\n",
              "      filter: drop-shadow(0px 1px 2px rgba(0, 0, 0, 0.3));\n",
              "      fill: #FFFFFF;\n",
              "    }\n",
              "  </style>\n",
              "\n",
              "    <script>\n",
              "      const buttonEl =\n",
              "        document.querySelector('#df-42efbe73-4186-4744-a8ea-340d329bb19b button.colab-df-convert');\n",
              "      buttonEl.style.display =\n",
              "        google.colab.kernel.accessAllowed ? 'block' : 'none';\n",
              "\n",
              "      async function convertToInteractive(key) {\n",
              "        const element = document.querySelector('#df-42efbe73-4186-4744-a8ea-340d329bb19b');\n",
              "        const dataTable =\n",
              "          await google.colab.kernel.invokeFunction('convertToInteractive',\n",
              "                                                    [key], {});\n",
              "        if (!dataTable) return;\n",
              "\n",
              "        const docLinkHtml = 'Like what you see? Visit the ' +\n",
              "          '<a target=\"_blank\" href=https://colab.research.google.com/notebooks/data_table.ipynb>data table notebook</a>'\n",
              "          + ' to learn more about interactive tables.';\n",
              "        element.innerHTML = '';\n",
              "        dataTable['output_type'] = 'display_data';\n",
              "        await google.colab.output.renderOutput(dataTable, element);\n",
              "        const docLink = document.createElement('div');\n",
              "        docLink.innerHTML = docLinkHtml;\n",
              "        element.appendChild(docLink);\n",
              "      }\n",
              "    </script>\n",
              "  </div>\n",
              "\n",
              "\n",
              "<div id=\"df-eceb2244-f72d-4c25-b15a-56e60e2fdb25\">\n",
              "  <button class=\"colab-df-quickchart\" onclick=\"quickchart('df-eceb2244-f72d-4c25-b15a-56e60e2fdb25')\"\n",
              "            title=\"Suggest charts\"\n",
              "            style=\"display:none;\">\n",
              "\n",
              "<svg xmlns=\"http://www.w3.org/2000/svg\" height=\"24px\"viewBox=\"0 0 24 24\"\n",
              "     width=\"24px\">\n",
              "    <g>\n",
              "        <path d=\"M19 3H5c-1.1 0-2 .9-2 2v14c0 1.1.9 2 2 2h14c1.1 0 2-.9 2-2V5c0-1.1-.9-2-2-2zM9 17H7v-7h2v7zm4 0h-2V7h2v10zm4 0h-2v-4h2v4z\"/>\n",
              "    </g>\n",
              "</svg>\n",
              "  </button>\n",
              "\n",
              "<style>\n",
              "  .colab-df-quickchart {\n",
              "      --bg-color: #E8F0FE;\n",
              "      --fill-color: #1967D2;\n",
              "      --hover-bg-color: #E2EBFA;\n",
              "      --hover-fill-color: #174EA6;\n",
              "      --disabled-fill-color: #AAA;\n",
              "      --disabled-bg-color: #DDD;\n",
              "  }\n",
              "\n",
              "  [theme=dark] .colab-df-quickchart {\n",
              "      --bg-color: #3B4455;\n",
              "      --fill-color: #D2E3FC;\n",
              "      --hover-bg-color: #434B5C;\n",
              "      --hover-fill-color: #FFFFFF;\n",
              "      --disabled-bg-color: #3B4455;\n",
              "      --disabled-fill-color: #666;\n",
              "  }\n",
              "\n",
              "  .colab-df-quickchart {\n",
              "    background-color: var(--bg-color);\n",
              "    border: none;\n",
              "    border-radius: 50%;\n",
              "    cursor: pointer;\n",
              "    display: none;\n",
              "    fill: var(--fill-color);\n",
              "    height: 32px;\n",
              "    padding: 0;\n",
              "    width: 32px;\n",
              "  }\n",
              "\n",
              "  .colab-df-quickchart:hover {\n",
              "    background-color: var(--hover-bg-color);\n",
              "    box-shadow: 0 1px 2px rgba(60, 64, 67, 0.3), 0 1px 3px 1px rgba(60, 64, 67, 0.15);\n",
              "    fill: var(--button-hover-fill-color);\n",
              "  }\n",
              "\n",
              "  .colab-df-quickchart-complete:disabled,\n",
              "  .colab-df-quickchart-complete:disabled:hover {\n",
              "    background-color: var(--disabled-bg-color);\n",
              "    fill: var(--disabled-fill-color);\n",
              "    box-shadow: none;\n",
              "  }\n",
              "\n",
              "  .colab-df-spinner {\n",
              "    border: 2px solid var(--fill-color);\n",
              "    border-color: transparent;\n",
              "    border-bottom-color: var(--fill-color);\n",
              "    animation:\n",
              "      spin 1s steps(1) infinite;\n",
              "  }\n",
              "\n",
              "  @keyframes spin {\n",
              "    0% {\n",
              "      border-color: transparent;\n",
              "      border-bottom-color: var(--fill-color);\n",
              "      border-left-color: var(--fill-color);\n",
              "    }\n",
              "    20% {\n",
              "      border-color: transparent;\n",
              "      border-left-color: var(--fill-color);\n",
              "      border-top-color: var(--fill-color);\n",
              "    }\n",
              "    30% {\n",
              "      border-color: transparent;\n",
              "      border-left-color: var(--fill-color);\n",
              "      border-top-color: var(--fill-color);\n",
              "      border-right-color: var(--fill-color);\n",
              "    }\n",
              "    40% {\n",
              "      border-color: transparent;\n",
              "      border-right-color: var(--fill-color);\n",
              "      border-top-color: var(--fill-color);\n",
              "    }\n",
              "    60% {\n",
              "      border-color: transparent;\n",
              "      border-right-color: var(--fill-color);\n",
              "    }\n",
              "    80% {\n",
              "      border-color: transparent;\n",
              "      border-right-color: var(--fill-color);\n",
              "      border-bottom-color: var(--fill-color);\n",
              "    }\n",
              "    90% {\n",
              "      border-color: transparent;\n",
              "      border-bottom-color: var(--fill-color);\n",
              "    }\n",
              "  }\n",
              "</style>\n",
              "\n",
              "  <script>\n",
              "    async function quickchart(key) {\n",
              "      const quickchartButtonEl =\n",
              "        document.querySelector('#' + key + ' button');\n",
              "      quickchartButtonEl.disabled = true;  // To prevent multiple clicks.\n",
              "      quickchartButtonEl.classList.add('colab-df-spinner');\n",
              "      try {\n",
              "        const charts = await google.colab.kernel.invokeFunction(\n",
              "            'suggestCharts', [key], {});\n",
              "      } catch (error) {\n",
              "        console.error('Error during call to suggestCharts:', error);\n",
              "      }\n",
              "      quickchartButtonEl.classList.remove('colab-df-spinner');\n",
              "      quickchartButtonEl.classList.add('colab-df-quickchart-complete');\n",
              "    }\n",
              "    (() => {\n",
              "      let quickchartButtonEl =\n",
              "        document.querySelector('#df-eceb2244-f72d-4c25-b15a-56e60e2fdb25 button');\n",
              "      quickchartButtonEl.style.display =\n",
              "        google.colab.kernel.accessAllowed ? 'block' : 'none';\n",
              "    })();\n",
              "  </script>\n",
              "</div>\n",
              "\n",
              "  <div id=\"id_79688552-9321-4e52-9754-8496c9ae7610\">\n",
              "    <style>\n",
              "      .colab-df-generate {\n",
              "        background-color: #E8F0FE;\n",
              "        border: none;\n",
              "        border-radius: 50%;\n",
              "        cursor: pointer;\n",
              "        display: none;\n",
              "        fill: #1967D2;\n",
              "        height: 32px;\n",
              "        padding: 0 0 0 0;\n",
              "        width: 32px;\n",
              "      }\n",
              "\n",
              "      .colab-df-generate:hover {\n",
              "        background-color: #E2EBFA;\n",
              "        box-shadow: 0px 1px 2px rgba(60, 64, 67, 0.3), 0px 1px 3px 1px rgba(60, 64, 67, 0.15);\n",
              "        fill: #174EA6;\n",
              "      }\n",
              "\n",
              "      [theme=dark] .colab-df-generate {\n",
              "        background-color: #3B4455;\n",
              "        fill: #D2E3FC;\n",
              "      }\n",
              "\n",
              "      [theme=dark] .colab-df-generate:hover {\n",
              "        background-color: #434B5C;\n",
              "        box-shadow: 0px 1px 3px 1px rgba(0, 0, 0, 0.15);\n",
              "        filter: drop-shadow(0px 1px 2px rgba(0, 0, 0, 0.3));\n",
              "        fill: #FFFFFF;\n",
              "      }\n",
              "    </style>\n",
              "    <button class=\"colab-df-generate\" onclick=\"generateWithVariable('null_counts')\"\n",
              "            title=\"Generate code using this dataframe.\"\n",
              "            style=\"display:none;\">\n",
              "\n",
              "  <svg xmlns=\"http://www.w3.org/2000/svg\" height=\"24px\"viewBox=\"0 0 24 24\"\n",
              "       width=\"24px\">\n",
              "    <path d=\"M7,19H8.4L18.45,9,17,7.55,7,17.6ZM5,21V16.75L18.45,3.32a2,2,0,0,1,2.83,0l1.4,1.43a1.91,1.91,0,0,1,.58,1.4,1.91,1.91,0,0,1-.58,1.4L9.25,21ZM18.45,9,17,7.55Zm-12,3A5.31,5.31,0,0,0,4.9,8.1,5.31,5.31,0,0,0,1,6.5,5.31,5.31,0,0,0,4.9,4.9,5.31,5.31,0,0,0,6.5,1,5.31,5.31,0,0,0,8.1,4.9,5.31,5.31,0,0,0,12,6.5,5.46,5.46,0,0,0,6.5,12Z\"/>\n",
              "  </svg>\n",
              "    </button>\n",
              "    <script>\n",
              "      (() => {\n",
              "      const buttonEl =\n",
              "        document.querySelector('#id_79688552-9321-4e52-9754-8496c9ae7610 button.colab-df-generate');\n",
              "      buttonEl.style.display =\n",
              "        google.colab.kernel.accessAllowed ? 'block' : 'none';\n",
              "\n",
              "      buttonEl.onclick = () => {\n",
              "        google.colab.notebook.generateWithVariable('null_counts');\n",
              "      }\n",
              "      })();\n",
              "    </script>\n",
              "  </div>\n",
              "\n",
              "    </div>\n",
              "  </div>\n"
            ],
            "application/vnd.google.colaboratory.intrinsic+json": {
              "type": "dataframe",
              "variable_name": "null_counts",
              "summary": "{\n  \"name\": \"null_counts\",\n  \"rows\": 25,\n  \"fields\": [\n    {\n      \"column\": 0,\n      \"properties\": {\n        \"dtype\": \"number\",\n        \"std\": 0,\n        \"min\": 0,\n        \"max\": 0,\n        \"num_unique_values\": 1,\n        \"samples\": [\n          0\n        ],\n        \"semantic_type\": \"\",\n        \"description\": \"\"\n      }\n    }\n  ]\n}"
            }
          },
          "metadata": {},
          "execution_count": 111
        }
      ],
      "source": [
        "null_counts = pd.DataFrame(train_data.isnull().sum())\n",
        "null_counts"
      ]
    },
    {
      "cell_type": "markdown",
      "metadata": {
        "id": "Ar0tXQg_D4S3"
      },
      "source": [
        "### 文字列要素のカラムの変換"
      ]
    },
    {
      "cell_type": "markdown",
      "metadata": {
        "id": "4mgflr2DDyUw"
      },
      "source": [
        "- ammenities：\n",
        "- bed_type：ラベル→ラベルエンコーディング\n",
        "- cancellation_plicy：ラベル→ラベルエンコーディング\n",
        "- city：ラベル→ラベルエンコーディング\n",
        "- cleaning_fee：T/F→ラベルエンコーディング\n",
        "- description：センテンス→TF-IDFベースのベクトル化\n",
        "- first_reviw：日付→各項目でカラムを分け、数値化\n",
        "- host_has_profile_pic：T/F→ラベルエンコーディング\n",
        "- host_identity_verified：T/F→ラベルエンコーディング\n",
        "- host_response_rate：パーセント→数値を抜き出しint化。空欄は0?-1?\n",
        "- host_since：日付→各項目でカラムを分け、数値化\n",
        "- instant_bookable：T/F→ラベルエンコーディング\n",
        "- last_review：日付→各項目でカラムを分け、数値化\n",
        "- name：賃貸名→固有名詞は一旦削除\n",
        "- neighbourhood：名前？→固有名詞は一旦削除\n",
        "- property_type：ラベル→ラベルエンコーディング\n",
        "- room_type：ラベル→ラベルエンコーディング\n",
        "- thumbnail_url：URL→削除\n",
        "- zip_code：？数値ではある。（空欄あり）→"
      ]
    },
    {
      "cell_type": "markdown",
      "metadata": {
        "id": "Xq2M7i_ZT6r9"
      },
      "source": [
        "ラベルに対する処理"
      ]
    },
    {
      "cell_type": "code",
      "execution_count": 112,
      "metadata": {
        "colab": {
          "base_uri": "https://localhost:8080/"
        },
        "id": "9-LHGZOebsOD",
        "outputId": "bd9f8a11-c3dd-4b92-ecd9-61819dde09f7"
      },
      "outputs": [
        {
          "output_type": "stream",
          "name": "stdout",
          "text": [
            "<class 'pandas.core.frame.DataFrame'>\n",
            "RangeIndex: 55583 entries, 0 to 55582\n",
            "Data columns (total 25 columns):\n",
            " #   Column                          Non-Null Count  Dtype  \n",
            "---  ------                          --------------  -----  \n",
            " 0   accommodates                    55583 non-null  int64  \n",
            " 1   amenities                       55583 non-null  object \n",
            " 2   bathrooms                       55583 non-null  float64\n",
            " 3   bedrooms                        55583 non-null  float64\n",
            " 4   beds                            55583 non-null  float64\n",
            " 5   description                     55583 non-null  object \n",
            " 6   first_review                    55583 non-null  object \n",
            " 7   host_response_rate              55583 non-null  object \n",
            " 8   host_since                      55583 non-null  object \n",
            " 9   last_review                     55583 non-null  object \n",
            " 10  latitude                        55583 non-null  float64\n",
            " 11  longitude                       55583 non-null  float64\n",
            " 12  number_of_reviews               55583 non-null  int64  \n",
            " 13  review_scores_rating            55583 non-null  float64\n",
            " 14  y                               55583 non-null  float64\n",
            " 15  Encoded_bed_type                55583 non-null  int64  \n",
            " 16  Encoded_cancellation_policy     55583 non-null  int64  \n",
            " 17  Encoded_city                    55583 non-null  int64  \n",
            " 18  Encoded_cleaning_fee            55583 non-null  int64  \n",
            " 19  Encoded_host_has_profile_pic    55583 non-null  int64  \n",
            " 20  Encoded_host_identity_verified  55583 non-null  int64  \n",
            " 21  Encoded_instant_bookable        55583 non-null  int64  \n",
            " 22  Encoded_property_type           55583 non-null  int64  \n",
            " 23  Encoded_room_type               55583 non-null  int64  \n",
            " 24  Encoded_neighbourhood           55583 non-null  int64  \n",
            "dtypes: float64(7), int64(12), object(6)\n",
            "memory usage: 10.6+ MB\n"
          ]
        }
      ],
      "source": [
        "\n",
        "le = LabelEncoder()\n",
        "encoding_labels = [\n",
        "    'bed_type',\n",
        "    'cancellation_policy',\n",
        "    'city',\n",
        "    'cleaning_fee',\n",
        "    'host_has_profile_pic',\n",
        "    'host_identity_verified',\n",
        "    'instant_bookable',\n",
        "    'property_type',\n",
        "    'room_type',\n",
        "    'neighbourhood'\n",
        "]\n",
        "for label in encoding_labels:\n",
        "  new_column = f'Encoded_{label}'\n",
        "  train_data[new_column] = le.fit_transform(train_data[label])\n",
        "  train_data = train_data.drop(label, axis=1)\n",
        "  test_data[new_column] = le.fit_transform(test_data[label])\n",
        "  test_data = test_data.drop(label, axis=1)\n",
        "\n",
        "\n",
        "train_data.info()"
      ]
    },
    {
      "cell_type": "markdown",
      "metadata": {
        "id": "nyYknCyoT_c3"
      },
      "source": [
        "日付データに対する処理"
      ]
    },
    {
      "cell_type": "code",
      "execution_count": 113,
      "metadata": {
        "id": "5NcKoFv_UCEW"
      },
      "outputs": [],
      "source": [
        "# 要素か年月日を取得する関数\n",
        "def extract_YMD(df, target_column):\n",
        "  df[target_column] = df[target_column].fillna('0000-00-00')\n",
        "  year_column = f'{target_column}_year'\n",
        "  month_column = f'{target_column}_month'\n",
        "  day_column = f'{target_column}_day'\n",
        "  df[[year_column, month_column, day_column]] = df[target_column].str.split('-', expand=True).astype(int)\n",
        "  df = df.drop(target_column, axis=1)\n",
        "  return df"
      ]
    },
    {
      "cell_type": "code",
      "execution_count": 114,
      "metadata": {
        "id": "k0s1reFPMJ45"
      },
      "outputs": [],
      "source": [
        "date_columns = [\n",
        "    'first_review',\n",
        "    'host_since',\n",
        "    'last_review'\n",
        "]\n",
        "for column in date_columns:\n",
        "  # 各要素は YYYY/MM/DD\n",
        "  train_data = extract_YMD(train_data, column)\n",
        "  test_data = extract_YMD(test_data, column)"
      ]
    },
    {
      "cell_type": "markdown",
      "metadata": {
        "id": "o5WbTED7Z8jq"
      },
      "source": [
        "amenities の処理"
      ]
    },
    {
      "cell_type": "code",
      "execution_count": 115,
      "metadata": {
        "id": "5zNBTV2lVNfM"
      },
      "outputs": [],
      "source": [
        "# amenities を　文字列からリストへ変換\n",
        "amenities = []\n",
        "for material in train_data['amenities']:\n",
        "  for replace_str in ['{', '}', '\"']:\n",
        "    material = material.replace(replace_str, '')\n",
        "  material = material.split(',')\n",
        "  amenities.append(material)\n",
        "train_data['amenities'] = amenities"
      ]
    },
    {
      "cell_type": "code",
      "execution_count": 116,
      "metadata": {
        "id": "3lhA9I_7l9ro"
      },
      "outputs": [],
      "source": [
        "# アメニティ列をexplodeして、各アメニティごとに行を作成\n",
        "amenities_exploded = train_data['amenities'].explode()\n",
        "\n",
        "# explodeしたデータを使ってワンホットエンコーディング\n",
        "onehot_encoded = pd.get_dummies(amenities_exploded).groupby(level=0).sum()\n",
        "\n",
        "# 元のデータフレームにワンホットエンコーディングしたデータを結合\n",
        "train_data = pd.concat([train_data, onehot_encoded], axis=1)\n"
      ]
    },
    {
      "cell_type": "code",
      "execution_count": 117,
      "metadata": {
        "id": "Ad0TtUICkGFR"
      },
      "outputs": [],
      "source": [
        "train_data = train_data.drop('amenities', axis=1)"
      ]
    },
    {
      "cell_type": "markdown",
      "metadata": {
        "id": "uFJ16R10n_t_"
      },
      "source": [
        "hosted_response_rate の処理"
      ]
    },
    {
      "cell_type": "code",
      "execution_count": 118,
      "metadata": {
        "colab": {
          "base_uri": "https://localhost:8080/"
        },
        "id": "lwKOtJQEn1O3",
        "outputId": "f6bad476-f1f1-4b99-f9a2-e8e04cd7c651"
      },
      "outputs": [
        {
          "output_type": "stream",
          "name": "stdout",
          "text": [
            "0\n"
          ]
        }
      ],
      "source": [
        "host_response_rate_mode = train_data['host_response_rate'].mode()[0]\n",
        "\n",
        "# 最頻値で補完する\n",
        "train_data['host_response_rate'] = train_data['host_response_rate'].fillna(host_response_rate_mode)\n",
        "test_data['host_response_rate'] = test_data['host_response_rate'].fillna(host_response_rate_mode)\n",
        "\n",
        "print(train_data['host_response_rate'].isnull().sum())\n",
        "\n",
        "# 要素に % が含まれるので、削除し int 型へ変換する。\n",
        "train_data['host_response_rate'] = train_data['host_response_rate'].str.replace('%', '').astype(int)\n",
        "train_data['host_response_rate'].dtype\n",
        "test_data['host_response_rate'] = test_data['host_response_rate'].str.replace('%', '').astype(int)\n"
      ]
    },
    {
      "cell_type": "markdown",
      "metadata": {
        "id": "hu7P0OJKoeZh"
      },
      "source": [
        "description の処理"
      ]
    },
    {
      "cell_type": "code",
      "execution_count": 119,
      "metadata": {
        "id": "h3FUjlXgoaMQ"
      },
      "outputs": [],
      "source": [
        "## TFIFF を使用して文字列を変換したいが、 toarray 関数でセクションがクラッシュしてしまうので、description 列はとりあえず削除する方向で進める。\n",
        "train_data = train_data.drop('description', axis=1)\n",
        "test_data = test_data.drop('description', axis=1)\n",
        "# tfidvectorizer = TfidfVectorizer()\n",
        "# # train_data の変換\n",
        "# train_tfid_matrix = tfidvectorizer.fit_transform(train_data['description'])\n",
        "# train_data['description'] = train_tfid_matrix.toarray()\n",
        "# # test_data の変換\n",
        "# test_tfid_matrix = tfidvectorizer.transform(test_data['description'])\n",
        "# test_data['description'] = test_tfid_matrix.toarray()"
      ]
    },
    {
      "cell_type": "markdown",
      "metadata": {
        "id": "BsdvXUlTw_Yh"
      },
      "source": [
        "要素が文字列の列がないかの最終確認"
      ]
    },
    {
      "cell_type": "code",
      "execution_count": 120,
      "metadata": {
        "colab": {
          "base_uri": "https://localhost:8080/"
        },
        "id": "oEXSBcn_kPN9",
        "outputId": "d88682de-fa8b-48ae-be26-5ad78fb31aaa"
      },
      "outputs": [
        {
          "output_type": "execute_result",
          "data": {
            "text/plain": [
              "[]"
            ]
          },
          "metadata": {},
          "execution_count": 120
        }
      ],
      "source": [
        "object_columns = train_data.dtypes[train_data.dtypes == 'object'].index.tolist()\n",
        "object_columns"
      ]
    },
    {
      "cell_type": "markdown",
      "metadata": {
        "id": "i86fF_bn9j_M"
      },
      "source": [
        "# 損失関数の定義\n",
        "→ sickit learn を使用する場合はモデルに組み込まれているためいらない。"
      ]
    },
    {
      "cell_type": "markdown",
      "metadata": {
        "id": "_Ei1pOD-mPgH"
      },
      "source": [
        "# データの分割"
      ]
    },
    {
      "cell_type": "code",
      "source": [
        "t = train_data['y'].astype(int)\n",
        "train_data = train_data.drop('y', axis=1)"
      ],
      "metadata": {
        "id": "aBnTXV_K--t8"
      },
      "execution_count": 121,
      "outputs": []
    },
    {
      "cell_type": "code",
      "execution_count": 122,
      "metadata": {
        "id": "GHV6VIwRBFIw"
      },
      "outputs": [],
      "source": [
        "x_train, x_val, t_train, t_val = train_test_split(train_data, t, train_size=0.8, random_state=0)"
      ]
    },
    {
      "cell_type": "markdown",
      "metadata": {
        "id": "pabyXPdhAfTj"
      },
      "source": [
        "# 正規化"
      ]
    },
    {
      "cell_type": "code",
      "execution_count": 123,
      "metadata": {
        "id": "BIhXYEMvAhw1"
      },
      "outputs": [],
      "source": [
        "scaler = StandardScaler()\n",
        "x_train = scaler.fit_transform(x_train)\n",
        "x_val = scaler.transform(x_val)\n",
        "# test_data = scaler.transform(test_data)"
      ]
    },
    {
      "cell_type": "markdown",
      "metadata": {
        "id": "ySKhDgkzmVT7"
      },
      "source": [
        "# 学習"
      ]
    },
    {
      "cell_type": "code",
      "source": [
        "#　モデルの選択\n",
        "from sklearn.linear_model import SGDClassifier, LinearRegression, SGDRegressor\n",
        "from sklearn.ensemble import GradientBoostingRegressor\n",
        "\n",
        "# model = SGDClassifier(loss='log_loss', random_state=0)\n",
        "# model = LinearRegression()\n",
        "# model = SGDRegressor(max_iter=100, tol=1e-3, penalty=None, eta0=0.01, random_state=0)\n",
        "model = GradientBoostingRegressor(n_estimators=100, learning_rate=0.1, max_depth=3, random_state=42)\n"
      ],
      "metadata": {
        "id": "w27xA_MkQVkB"
      },
      "execution_count": 131,
      "outputs": []
    },
    {
      "cell_type": "code",
      "execution_count": 132,
      "metadata": {
        "id": "A9OZspfomU4V",
        "colab": {
          "base_uri": "https://localhost:8080/",
          "height": 75
        },
        "outputId": "43dfffbe-47bd-4892-9f42-4b6f3059e0dc"
      },
      "outputs": [
        {
          "output_type": "execute_result",
          "data": {
            "text/plain": [
              "GradientBoostingRegressor(random_state=42)"
            ],
            "text/html": [
              "<style>#sk-container-id-4 {color: black;background-color: white;}#sk-container-id-4 pre{padding: 0;}#sk-container-id-4 div.sk-toggleable {background-color: white;}#sk-container-id-4 label.sk-toggleable__label {cursor: pointer;display: block;width: 100%;margin-bottom: 0;padding: 0.3em;box-sizing: border-box;text-align: center;}#sk-container-id-4 label.sk-toggleable__label-arrow:before {content: \"▸\";float: left;margin-right: 0.25em;color: #696969;}#sk-container-id-4 label.sk-toggleable__label-arrow:hover:before {color: black;}#sk-container-id-4 div.sk-estimator:hover label.sk-toggleable__label-arrow:before {color: black;}#sk-container-id-4 div.sk-toggleable__content {max-height: 0;max-width: 0;overflow: hidden;text-align: left;background-color: #f0f8ff;}#sk-container-id-4 div.sk-toggleable__content pre {margin: 0.2em;color: black;border-radius: 0.25em;background-color: #f0f8ff;}#sk-container-id-4 input.sk-toggleable__control:checked~div.sk-toggleable__content {max-height: 200px;max-width: 100%;overflow: auto;}#sk-container-id-4 input.sk-toggleable__control:checked~label.sk-toggleable__label-arrow:before {content: \"▾\";}#sk-container-id-4 div.sk-estimator input.sk-toggleable__control:checked~label.sk-toggleable__label {background-color: #d4ebff;}#sk-container-id-4 div.sk-label input.sk-toggleable__control:checked~label.sk-toggleable__label {background-color: #d4ebff;}#sk-container-id-4 input.sk-hidden--visually {border: 0;clip: rect(1px 1px 1px 1px);clip: rect(1px, 1px, 1px, 1px);height: 1px;margin: -1px;overflow: hidden;padding: 0;position: absolute;width: 1px;}#sk-container-id-4 div.sk-estimator {font-family: monospace;background-color: #f0f8ff;border: 1px dotted black;border-radius: 0.25em;box-sizing: border-box;margin-bottom: 0.5em;}#sk-container-id-4 div.sk-estimator:hover {background-color: #d4ebff;}#sk-container-id-4 div.sk-parallel-item::after {content: \"\";width: 100%;border-bottom: 1px solid gray;flex-grow: 1;}#sk-container-id-4 div.sk-label:hover label.sk-toggleable__label {background-color: #d4ebff;}#sk-container-id-4 div.sk-serial::before {content: \"\";position: absolute;border-left: 1px solid gray;box-sizing: border-box;top: 0;bottom: 0;left: 50%;z-index: 0;}#sk-container-id-4 div.sk-serial {display: flex;flex-direction: column;align-items: center;background-color: white;padding-right: 0.2em;padding-left: 0.2em;position: relative;}#sk-container-id-4 div.sk-item {position: relative;z-index: 1;}#sk-container-id-4 div.sk-parallel {display: flex;align-items: stretch;justify-content: center;background-color: white;position: relative;}#sk-container-id-4 div.sk-item::before, #sk-container-id-4 div.sk-parallel-item::before {content: \"\";position: absolute;border-left: 1px solid gray;box-sizing: border-box;top: 0;bottom: 0;left: 50%;z-index: -1;}#sk-container-id-4 div.sk-parallel-item {display: flex;flex-direction: column;z-index: 1;position: relative;background-color: white;}#sk-container-id-4 div.sk-parallel-item:first-child::after {align-self: flex-end;width: 50%;}#sk-container-id-4 div.sk-parallel-item:last-child::after {align-self: flex-start;width: 50%;}#sk-container-id-4 div.sk-parallel-item:only-child::after {width: 0;}#sk-container-id-4 div.sk-dashed-wrapped {border: 1px dashed gray;margin: 0 0.4em 0.5em 0.4em;box-sizing: border-box;padding-bottom: 0.4em;background-color: white;}#sk-container-id-4 div.sk-label label {font-family: monospace;font-weight: bold;display: inline-block;line-height: 1.2em;}#sk-container-id-4 div.sk-label-container {text-align: center;}#sk-container-id-4 div.sk-container {/* jupyter's `normalize.less` sets `[hidden] { display: none; }` but bootstrap.min.css set `[hidden] { display: none !important; }` so we also need the `!important` here to be able to override the default hidden behavior on the sphinx rendered scikit-learn.org. See: https://github.com/scikit-learn/scikit-learn/issues/21755 */display: inline-block !important;position: relative;}#sk-container-id-4 div.sk-text-repr-fallback {display: none;}</style><div id=\"sk-container-id-4\" class=\"sk-top-container\"><div class=\"sk-text-repr-fallback\"><pre>GradientBoostingRegressor(random_state=42)</pre><b>In a Jupyter environment, please rerun this cell to show the HTML representation or trust the notebook. <br />On GitHub, the HTML representation is unable to render, please try loading this page with nbviewer.org.</b></div><div class=\"sk-container\" hidden><div class=\"sk-item\"><div class=\"sk-estimator sk-toggleable\"><input class=\"sk-toggleable__control sk-hidden--visually\" id=\"sk-estimator-id-4\" type=\"checkbox\" checked><label for=\"sk-estimator-id-4\" class=\"sk-toggleable__label sk-toggleable__label-arrow\">GradientBoostingRegressor</label><div class=\"sk-toggleable__content\"><pre>GradientBoostingRegressor(random_state=42)</pre></div></div></div></div></div>"
            ]
          },
          "metadata": {},
          "execution_count": 132
        }
      ],
      "source": [
        "# 学習実行\n",
        "model.fit(x_train, t_train)"
      ]
    },
    {
      "cell_type": "markdown",
      "metadata": {
        "id": "RZBs4qj2BZ9b"
      },
      "source": [
        "# 性能評価"
      ]
    },
    {
      "cell_type": "code",
      "execution_count": 133,
      "metadata": {
        "id": "V1C3-irvBYnM",
        "colab": {
          "base_uri": "https://localhost:8080/"
        },
        "outputId": "04d1d38a-3669-43e7-ff6f-9075f5720334"
      },
      "outputs": [
        {
          "output_type": "stream",
          "name": "stdout",
          "text": [
            "Train score: 0.5735634990280714\n"
          ]
        }
      ],
      "source": [
        "train_score = model.score(x_train, t_train)\n",
        "print(f\"Train score (R^2): {train_score}\")"
      ]
    },
    {
      "cell_type": "code",
      "source": [
        "coef = model.coef_\n",
        "columns = train_data.columns\n",
        "features_importances = zip(columns, coef)\n",
        "sorted_features = sorted(features_importances, key=lambda x: abs(x[1]), reverse=True)\n",
        "\n",
        "# データの準備\n",
        "labels, values = zip(*sorted_features)\n",
        "\n",
        "plt.figure(figsize=(8, 30))\n",
        "# 棒グラフのプロット\n",
        "plt.barh(range(len(labels)), values, align='center')\n",
        "plt.yticks(range(len(labels)), labels)\n",
        "plt.xlabel('Importance')\n",
        "plt.ylabel('Feature')\n",
        "plt.title('Feature Importance')\n",
        "plt.gca().invert_yaxis()  # グラフを重要度の高い順に表示\n",
        "plt.show()"
      ],
      "metadata": {
        "colab": {
          "base_uri": "https://localhost:8080/",
          "height": 211
        },
        "id": "p-ZQkoLxTGRL",
        "outputId": "f9c43f3c-1f5d-497c-9483-aa1e177fb745"
      },
      "execution_count": 134,
      "outputs": [
        {
          "output_type": "error",
          "ename": "AttributeError",
          "evalue": "'GradientBoostingRegressor' object has no attribute 'coef_'",
          "traceback": [
            "\u001b[0;31m---------------------------------------------------------------------------\u001b[0m",
            "\u001b[0;31mAttributeError\u001b[0m                            Traceback (most recent call last)",
            "\u001b[0;32m<ipython-input-134-a97cb8813956>\u001b[0m in \u001b[0;36m<cell line: 1>\u001b[0;34m()\u001b[0m\n\u001b[0;32m----> 1\u001b[0;31m \u001b[0mcoef\u001b[0m \u001b[0;34m=\u001b[0m \u001b[0mmodel\u001b[0m\u001b[0;34m.\u001b[0m\u001b[0mcoef_\u001b[0m\u001b[0;34m\u001b[0m\u001b[0;34m\u001b[0m\u001b[0m\n\u001b[0m\u001b[1;32m      2\u001b[0m \u001b[0mcolumns\u001b[0m \u001b[0;34m=\u001b[0m \u001b[0mtrain_data\u001b[0m\u001b[0;34m.\u001b[0m\u001b[0mcolumns\u001b[0m\u001b[0;34m\u001b[0m\u001b[0;34m\u001b[0m\u001b[0m\n\u001b[1;32m      3\u001b[0m \u001b[0mfeatures_importances\u001b[0m \u001b[0;34m=\u001b[0m \u001b[0mzip\u001b[0m\u001b[0;34m(\u001b[0m\u001b[0mcolumns\u001b[0m\u001b[0;34m,\u001b[0m \u001b[0mcoef\u001b[0m\u001b[0;34m)\u001b[0m\u001b[0;34m\u001b[0m\u001b[0;34m\u001b[0m\u001b[0m\n\u001b[1;32m      4\u001b[0m \u001b[0msorted_features\u001b[0m \u001b[0;34m=\u001b[0m \u001b[0msorted\u001b[0m\u001b[0;34m(\u001b[0m\u001b[0mfeatures_importances\u001b[0m\u001b[0;34m,\u001b[0m \u001b[0mkey\u001b[0m\u001b[0;34m=\u001b[0m\u001b[0;32mlambda\u001b[0m \u001b[0mx\u001b[0m\u001b[0;34m:\u001b[0m \u001b[0mabs\u001b[0m\u001b[0;34m(\u001b[0m\u001b[0mx\u001b[0m\u001b[0;34m[\u001b[0m\u001b[0;36m1\u001b[0m\u001b[0;34m]\u001b[0m\u001b[0;34m)\u001b[0m\u001b[0;34m,\u001b[0m \u001b[0mreverse\u001b[0m\u001b[0;34m=\u001b[0m\u001b[0;32mTrue\u001b[0m\u001b[0;34m)\u001b[0m\u001b[0;34m\u001b[0m\u001b[0;34m\u001b[0m\u001b[0m\n\u001b[1;32m      5\u001b[0m \u001b[0;34m\u001b[0m\u001b[0m\n",
            "\u001b[0;31mAttributeError\u001b[0m: 'GradientBoostingRegressor' object has no attribute 'coef_'"
          ]
        }
      ]
    },
    {
      "cell_type": "markdown",
      "metadata": {
        "id": "sqA4s6qJmYr1"
      },
      "source": [
        "# 推論"
      ]
    },
    {
      "cell_type": "code",
      "source": [
        "val_pred = model.predict(x_val)"
      ],
      "metadata": {
        "id": "D1ZYXuW2gOQ5"
      },
      "execution_count": 135,
      "outputs": []
    },
    {
      "cell_type": "code",
      "source": [
        "from sklearn.metrics import r2_score\n",
        "\n",
        "# 回帰モデルの評価\n",
        "val_r2 = r2_score(t_val, val_pred)\n",
        "print(f'Validation R^2:\" {round(val_r2, 2)}')"
      ],
      "metadata": {
        "colab": {
          "base_uri": "https://localhost:8080/"
        },
        "id": "bYzilpxOgD77",
        "outputId": "b15f4716-5899-44dd-d5f8-63c9e215f087"
      },
      "execution_count": 136,
      "outputs": [
        {
          "output_type": "stream",
          "name": "stdout",
          "text": [
            "Validation R^2:\" 0.54\n"
          ]
        }
      ]
    },
    {
      "cell_type": "code",
      "execution_count": null,
      "metadata": {
        "id": "2W0SAJKPmb47"
      },
      "outputs": [],
      "source": []
    }
  ],
  "metadata": {
    "accelerator": "GPU",
    "colab": {
      "gpuType": "T4",
      "provenance": [],
      "mount_file_id": "1ybRkT-SYvAtIvmizmGrfa-ZPt-ssI4R7",
      "authorship_tag": "ABX9TyMVHx/AI6J2wSqvOL21nkJB",
      "include_colab_link": true
    },
    "kernelspec": {
      "display_name": "Python 3",
      "name": "python3"
    },
    "language_info": {
      "name": "python"
    }
  },
  "nbformat": 4,
  "nbformat_minor": 0
}