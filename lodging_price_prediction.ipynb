{
  "nbformat": 4,
  "nbformat_minor": 0,
  "metadata": {
    "colab": {
      "provenance": [],
      "authorship_tag": "ABX9TyPecMTD4/il4zwKcp7ZXZeT",
      "include_colab_link": true
    },
    "kernelspec": {
      "name": "python3",
      "display_name": "Python 3"
    },
    "language_info": {
      "name": "python"
    }
  },
  "cells": [
    {
      "cell_type": "markdown",
      "metadata": {
        "id": "view-in-github",
        "colab_type": "text"
      },
      "source": [
        "<a href=\"https://colab.research.google.com/github/ryo-k2mt/lodging-price-prediction/blob/main/lodging_price_prediction.ipynb\" target=\"_parent\"><img src=\"https://colab.research.google.com/assets/colab-badge.svg\" alt=\"Open In Colab\"/></a>"
      ]
    },
    {
      "cell_type": "code",
      "source": [
        "# google drive へマウント\n",
        "from google.colab import drive\n",
        "drive.mount('/content/drive')"
      ],
      "metadata": {
        "id": "7mb1S7j_lpLf"
      },
      "execution_count": null,
      "outputs": []
    },
    {
      "cell_type": "markdown",
      "source": [
        "# ライブラリのインポート"
      ],
      "metadata": {
        "id": "uE0GHPStl2VG"
      }
    },
    {
      "cell_type": "code",
      "source": [
        "import numpy as np\n",
        "import pandas as pd\n",
        "import matplotlib.pyplot as plt\n",
        "import seaborn as sns\n",
        "import sklearn"
      ],
      "metadata": {
        "id": "qNjnR3bZAvAs"
      },
      "execution_count": null,
      "outputs": []
    },
    {
      "cell_type": "markdown",
      "source": [
        "# データの読み込み"
      ],
      "metadata": {
        "id": "-WccaWpvmIAm"
      }
    },
    {
      "cell_type": "code",
      "source": [],
      "metadata": {
        "id": "BsjoD2i-mK10"
      },
      "execution_count": null,
      "outputs": []
    },
    {
      "cell_type": "markdown",
      "source": [
        "# 前処理"
      ],
      "metadata": {
        "id": "suuId-KvmL3N"
      }
    },
    {
      "cell_type": "code",
      "source": [],
      "metadata": {
        "id": "-7vmUyi_mO9F"
      },
      "execution_count": null,
      "outputs": []
    },
    {
      "cell_type": "markdown",
      "source": [
        "# データの分割"
      ],
      "metadata": {
        "id": "_Ei1pOD-mPgH"
      }
    },
    {
      "cell_type": "code",
      "source": [],
      "metadata": {
        "id": "2V__GqnomUNu"
      },
      "execution_count": null,
      "outputs": []
    },
    {
      "cell_type": "markdown",
      "source": [
        "# 学習"
      ],
      "metadata": {
        "id": "ySKhDgkzmVT7"
      }
    },
    {
      "cell_type": "code",
      "source": [],
      "metadata": {
        "id": "A9OZspfomU4V"
      },
      "execution_count": null,
      "outputs": []
    },
    {
      "cell_type": "markdown",
      "source": [
        "# 推論"
      ],
      "metadata": {
        "id": "sqA4s6qJmYr1"
      }
    },
    {
      "cell_type": "code",
      "source": [],
      "metadata": {
        "id": "2W0SAJKPmb47"
      },
      "execution_count": null,
      "outputs": []
    }
  ]
}